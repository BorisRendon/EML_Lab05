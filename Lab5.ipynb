{
 "cells": [
  {
   "cell_type": "code",
   "execution_count": 1,
   "id": "proved-rental",
   "metadata": {},
   "outputs": [],
   "source": [
    "\n",
    "import pandas as pd \n",
    "import numpy as np\n",
    "import matplotlib.pyplot as plt"
   ]
  },
  {
   "cell_type": "code",
   "execution_count": 5,
   "id": "direct-wound",
   "metadata": {},
   "outputs": [
    {
     "data": {
      "text/html": [
       "<div>\n",
       "<style scoped>\n",
       "    .dataframe tbody tr th:only-of-type {\n",
       "        vertical-align: middle;\n",
       "    }\n",
       "\n",
       "    .dataframe tbody tr th {\n",
       "        vertical-align: top;\n",
       "    }\n",
       "\n",
       "    .dataframe thead th {\n",
       "        text-align: right;\n",
       "    }\n",
       "</style>\n",
       "<table border=\"1\" class=\"dataframe\">\n",
       "  <thead>\n",
       "    <tr style=\"text-align: right;\">\n",
       "      <th></th>\n",
       "      <th>Serial No.</th>\n",
       "      <th>GRE Score</th>\n",
       "      <th>TOEFL Score</th>\n",
       "      <th>University Rating</th>\n",
       "      <th>SOP</th>\n",
       "      <th>LOR</th>\n",
       "      <th>CGPA</th>\n",
       "      <th>Research</th>\n",
       "      <th>Chance of Admit</th>\n",
       "    </tr>\n",
       "  </thead>\n",
       "  <tbody>\n",
       "    <tr>\n",
       "      <th>0</th>\n",
       "      <td>1</td>\n",
       "      <td>337</td>\n",
       "      <td>118</td>\n",
       "      <td>4</td>\n",
       "      <td>4.5</td>\n",
       "      <td>4.5</td>\n",
       "      <td>9.65</td>\n",
       "      <td>1</td>\n",
       "      <td>0.92</td>\n",
       "    </tr>\n",
       "    <tr>\n",
       "      <th>1</th>\n",
       "      <td>2</td>\n",
       "      <td>324</td>\n",
       "      <td>107</td>\n",
       "      <td>4</td>\n",
       "      <td>4.0</td>\n",
       "      <td>4.5</td>\n",
       "      <td>8.87</td>\n",
       "      <td>1</td>\n",
       "      <td>0.76</td>\n",
       "    </tr>\n",
       "    <tr>\n",
       "      <th>2</th>\n",
       "      <td>3</td>\n",
       "      <td>316</td>\n",
       "      <td>104</td>\n",
       "      <td>3</td>\n",
       "      <td>3.0</td>\n",
       "      <td>3.5</td>\n",
       "      <td>8.00</td>\n",
       "      <td>1</td>\n",
       "      <td>0.72</td>\n",
       "    </tr>\n",
       "    <tr>\n",
       "      <th>3</th>\n",
       "      <td>4</td>\n",
       "      <td>322</td>\n",
       "      <td>110</td>\n",
       "      <td>3</td>\n",
       "      <td>3.5</td>\n",
       "      <td>2.5</td>\n",
       "      <td>8.67</td>\n",
       "      <td>1</td>\n",
       "      <td>0.80</td>\n",
       "    </tr>\n",
       "    <tr>\n",
       "      <th>4</th>\n",
       "      <td>5</td>\n",
       "      <td>314</td>\n",
       "      <td>103</td>\n",
       "      <td>2</td>\n",
       "      <td>2.0</td>\n",
       "      <td>3.0</td>\n",
       "      <td>8.21</td>\n",
       "      <td>0</td>\n",
       "      <td>0.65</td>\n",
       "    </tr>\n",
       "  </tbody>\n",
       "</table>\n",
       "</div>"
      ],
      "text/plain": [
       "   Serial No.  GRE Score  TOEFL Score  University Rating  SOP  LOR   CGPA  \\\n",
       "0           1        337          118                  4  4.5   4.5  9.65   \n",
       "1           2        324          107                  4  4.0   4.5  8.87   \n",
       "2           3        316          104                  3  3.0   3.5  8.00   \n",
       "3           4        322          110                  3  3.5   2.5  8.67   \n",
       "4           5        314          103                  2  2.0   3.0  8.21   \n",
       "\n",
       "   Research  Chance of Admit   \n",
       "0         1              0.92  \n",
       "1         1              0.76  \n",
       "2         1              0.72  \n",
       "3         1              0.80  \n",
       "4         0              0.65  "
      ]
     },
     "execution_count": 5,
     "metadata": {},
     "output_type": "execute_result"
    }
   ],
   "source": [
    "df = pd.read_csv('Admission_Predict.csv')\n",
    "df.head()"
   ]
  },
  {
   "cell_type": "code",
   "execution_count": 6,
   "id": "atomic-sunset",
   "metadata": {},
   "outputs": [
    {
     "data": {
      "text/plain": [
       "Serial No.           0\n",
       "GRE Score            0\n",
       "TOEFL Score          0\n",
       "University Rating    0\n",
       "SOP                  0\n",
       "LOR                  0\n",
       "CGPA                 0\n",
       "Research             0\n",
       "Chance of Admit      0\n",
       "dtype: int64"
      ]
     },
     "execution_count": 6,
     "metadata": {},
     "output_type": "execute_result"
    }
   ],
   "source": [
    "df.isnull().sum()"
   ]
  },
  {
   "cell_type": "markdown",
   "id": "minus-physiology",
   "metadata": {},
   "source": [
    "- Aqui podemos visualizar la que nuestro dataset no tiene ningun missing value, lo cual es bueno"
   ]
  },
  {
   "cell_type": "code",
   "execution_count": 7,
   "id": "informal-sauce",
   "metadata": {},
   "outputs": [],
   "source": [
    "df['const'] =1"
   ]
  },
  {
   "cell_type": "code",
   "execution_count": 8,
   "id": "roman-ordinary",
   "metadata": {},
   "outputs": [
    {
     "data": {
      "text/plain": [
       "Index(['Serial No.', 'GRE Score', 'TOEFL Score', 'University Rating', 'SOP',\n",
       "       'LOR ', 'CGPA', 'Research', 'Chance of Admit ', 'const'],\n",
       "      dtype='object')"
      ]
     },
     "execution_count": 8,
     "metadata": {},
     "output_type": "execute_result"
    }
   ],
   "source": [
    "df.columns"
   ]
  },
  {
   "cell_type": "markdown",
   "id": "australian-portland",
   "metadata": {},
   "source": [
    "### Split de data"
   ]
  },
  {
   "cell_type": "code",
   "execution_count": 12,
   "id": "planned-faith",
   "metadata": {},
   "outputs": [],
   "source": [
    "y = df['Chance of Admit '].to_numpy()\n",
    "X=df.drop('Chance of Admit ',axis=1).to_numpy()"
   ]
  },
  {
   "cell_type": "code",
   "execution_count": 13,
   "id": "played-playlist",
   "metadata": {},
   "outputs": [
    {
     "name": "stdout",
     "output_type": "stream",
     "text": [
      "(400,) (400, 9)\n"
     ]
    }
   ],
   "source": [
    "print(y.shape,X.shape)"
   ]
  },
  {
   "cell_type": "markdown",
   "id": "maritime-fortune",
   "metadata": {},
   "source": [
    "### Estandarizando data"
   ]
  },
  {
   "cell_type": "code",
   "execution_count": 14,
   "id": "electronic-coverage",
   "metadata": {},
   "outputs": [],
   "source": [
    "from sklearn.preprocessing import StandardScaler\n",
    "\n",
    "#creando la instancia\n",
    "scaler =  StandardScaler()\n",
    "\n",
    "X_scaled = scaler.fit_transform(X)"
   ]
  },
  {
   "cell_type": "markdown",
   "id": "amazing-natural",
   "metadata": {},
   "source": [
    "#### Cargando Funciones"
   ]
  },
  {
   "cell_type": "code",
   "execution_count": 15,
   "id": "built-belle",
   "metadata": {},
   "outputs": [],
   "source": [
    "\n",
    "def linear_cost(X, y, theta): \n",
    "    h = X @ theta\n",
    "    return ((y-h)**2).sum() / (2 * len(X))\n",
    "\n",
    "def linear_cost_gradient(X, y, theta, lambda_p = 10): \n",
    "    h = X @ theta\n",
    "    lambda_f = (lambda_p/(2*len(X))) * (theta**2).sum()\n",
    "    return (X.T @ (h-y))/ len(X) + lambda_f\n",
    "\n",
    "def gradient_descent(\n",
    "X,y,theta_0,linear_cost,linear_cost_gradient,\n",
    "    learning_rate = 0.0001, threshold=0.001, max_iter=10000,lambda_p = 10): \n",
    "    \n",
    "    theta = theta_0\n",
    "    iteration = 0 \n",
    "    costs = []\n",
    "    thetas = []\n",
    "    \n",
    "    while np.linalg.norm(linear_cost_gradient(X,y,theta)) > threshold and iteration < max_iter:\n",
    "        iteration += 1 \n",
    "        theta = theta - (learning_rate * linear_cost_gradient(X,y,theta) + lambda_p * theta)\n",
    "        costs.append(linear_cost(X,y,theta))\n",
    "        thetas.append(theta.copy())\n",
    "        \n",
    "    return theta, costs, thetas"
   ]
  },
  {
   "cell_type": "code",
   "execution_count": 21,
   "id": "imperial-dover",
   "metadata": {},
   "outputs": [
    {
     "name": "stdout",
     "output_type": "stream",
     "text": [
      "(9, 1)\n"
     ]
    }
   ],
   "source": [
    "m, n = X.shape\n",
    "theta_0 = np.random.rand(n,1)\n",
    "print(theta_0.shape)"
   ]
  },
  {
   "cell_type": "code",
   "execution_count": 18,
   "id": "dominant-digit",
   "metadata": {},
   "outputs": [
    {
     "name": "stdout",
     "output_type": "stream",
     "text": [
      "(200, 9) (99, 9) (99, 9)\n"
     ]
    }
   ],
   "source": [
    "X_train = X_scaled[:200]\n",
    "X_cv = X_scaled[201:300]\n",
    "X_test = X_scaled[301:400]\n",
    "print(X_train.shape,X_cv.shape,X_test.shape)"
   ]
  },
  {
   "cell_type": "markdown",
   "id": "provincial-compensation",
   "metadata": {},
   "source": [
    "- Hice una partición de 50%  para el entrenamiento y 25, 25 para el resto ya que la cantidad de datos es bastante limitada"
   ]
  },
  {
   "cell_type": "code",
   "execution_count": 19,
   "id": "aboriginal-agriculture",
   "metadata": {},
   "outputs": [
    {
     "name": "stdout",
     "output_type": "stream",
     "text": [
      "(200,) (99,) (99,)\n"
     ]
    }
   ],
   "source": [
    "y_train = y[:200]\n",
    "y_cv = y[201:300]\n",
    "y_test = y[301:400]\n",
    "print(y_train.shape,y_cv.shape,y_test.shape)"
   ]
  },
  {
   "cell_type": "code",
   "execution_count": 26,
   "id": "peripheral-translation",
   "metadata": {},
   "outputs": [],
   "source": [
    "theta, costs, thetas = gradient_descent(X_train,y_train,theta_0,linear_cost,linear_cost_gradient,0.00001,0.001,10000,0)"
   ]
  },
  {
   "cell_type": "code",
   "execution_count": 27,
   "id": "normal-painting",
   "metadata": {},
   "outputs": [
    {
     "name": "stdout",
     "output_type": "stream",
     "text": [
      "88.2046137513738\n"
     ]
    }
   ],
   "source": [
    "print(costs[len(costs)-1])"
   ]
  },
  {
   "cell_type": "markdown",
   "id": "important-turner",
   "metadata": {},
   "source": [
    "- Este valor todavía puede mejorarse, voy a probar con un polinomio de grado 2"
   ]
  }
 ],
 "metadata": {
  "kernelspec": {
   "display_name": "Python 3",
   "language": "python",
   "name": "python3"
  },
  "language_info": {
   "codemirror_mode": {
    "name": "ipython",
    "version": 3
   },
   "file_extension": ".py",
   "mimetype": "text/x-python",
   "name": "python",
   "nbconvert_exporter": "python",
   "pygments_lexer": "ipython3",
   "version": "3.8.7"
  }
 },
 "nbformat": 4,
 "nbformat_minor": 5
}
